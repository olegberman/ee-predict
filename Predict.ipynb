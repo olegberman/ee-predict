{
 "cells": [
  {
   "cell_type": "code",
   "execution_count": 169,
   "metadata": {
    "collapsed": true
   },
   "outputs": [],
   "source": [
    "from sklearn.neural_network import MLPRegressor\n",
    "import matplotlib.dates as mdates\n",
    "from dateutil import parser\n",
    "import numpy as np\n",
    "from random import randint\n",
    "import datetime\n",
    "import matplotlib.pyplot as plt"
   ]
  },
  {
   "cell_type": "code",
   "execution_count": 163,
   "metadata": {},
   "outputs": [
    {
     "data": {
      "text/plain": [
       "MLPRegressor(activation='relu', alpha=0.0001, batch_size='auto', beta_1=0.9,\n",
       "       beta_2=0.999, early_stopping=False, epsilon=1e-08,\n",
       "       hidden_layer_sizes=(15,), learning_rate='constant',\n",
       "       learning_rate_init=0.001, max_iter=100000, momentum=0.9,\n",
       "       nesterovs_momentum=True, power_t=0.5, random_state=None,\n",
       "       shuffle=True, solver='lbfgs', tol=0.0001, validation_fraction=0.1,\n",
       "       verbose=False, warm_start=False)"
      ]
     },
     "execution_count": 163,
     "metadata": {},
     "output_type": "execute_result"
    }
   ],
   "source": [
    "dataset = np.genfromtxt('dataset.csv', \n",
    "                        delimiter=',', \n",
    "                        dtype=None, \n",
    "                        names=['date', 'size', 'score', 'program_count', 'single_program', 'target'])\n",
    "# training data\n",
    "train_x = zip(mdates.datestr2num(dataset['date']), dataset['size'], dataset['program_count'], dataset['target'])\n",
    "reg = MLPRegressor(hidden_layer_sizes=(15,), activation='relu', max_iter=100000, solver='lbfgs')\n",
    "# try to fit the model\n",
    "reg.fit(train_x, dataset['score'])"
   ]
  },
  {
   "cell_type": "code",
   "execution_count": 171,
   "metadata": {},
   "outputs": [],
   "source": [
    "# generate test data\n",
    "test_data = []\n",
    "# take todays data\n",
    "now = datetime.datetime.now()\n",
    "future_dates = []\n",
    "predicted_data = []\n",
    "\n",
    "for i in range(0, 10):\n",
    "    future_date = mdates.datestr2num( (now + datetime.timedelta(days=(14*i))).strftime('%d %b %Y') )\n",
    "    future_dates.append(future_date)\n",
    "    predicted = reg.predict((np.array([[future_date, 3000 + randint(-500, 600), 4, 300000]])))\n",
    "    predicted_data.append(int(predicted))\n",
    "\n",
    "fig, ax = plt.subplots()\n",
    "ax.plot(future_dates, predicted_data)\n",
    "\n",
    "plt.title('Predicted Express Entry scores')\n",
    "plt.ylabel('ITA number')\n",
    "plt.xlabel('Date')\n",
    "xfmt = mdates.DateFormatter('%Y-%m-%d')\n",
    "ax.xaxis.set_major_formatter(xfmt)\n",
    "\n",
    "plt.show()"
   ]
  },
  {
   "cell_type": "code",
   "execution_count": 173,
   "metadata": {},
   "outputs": [
    {
     "data": {
      "image/png": "[encoded data removed]",
      "text/plain": [
       "<matplotlib.figure.Figure at 0x10ff0ad90>"
      ]
     },
     "metadata": {},
     "output_type": "display_data"
    }
   ],
   "source": []
  },
  {
   "cell_type": "code",
   "execution_count": null,
   "metadata": {
    "collapsed": true
   },
   "outputs": [],
   "source": []
  },
  {
   "cell_type": "code",
   "execution_count": null,
   "metadata": {
    "collapsed": true
   },
   "outputs": [],
   "source": []
  }
 ],
 "metadata": {
  "kernelspec": {
   "display_name": "Python 2",
   "language": "python",
   "name": "python2"
  },
  "language_info": {
   "codemirror_mode": {
    "name": "ipython",
    "version": 2
   },
   "file_extension": ".py",
   "mimetype": "text/x-python",
   "name": "python",
   "nbconvert_exporter": "python",
   "pygments_lexer": "ipython2",
   "version": "2.7.13"
  }
 },
 "nbformat": 4,
 "nbformat_minor": 2
}
