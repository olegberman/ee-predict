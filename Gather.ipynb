{
 "cells": [
  {
   "cell_type": "code",
   "execution_count": 114,
   "metadata": {
    "collapsed": true
   },
   "outputs": [],
   "source": [
    "import requests\n",
    "import re\n",
    "import string\n",
    "from bs4 import BeautifulSoup\n",
    "from dateutil import parser\n",
    "import csv"
   ]
  },
  {
   "cell_type": "code",
   "execution_count": 106,
   "metadata": {},
   "outputs": [],
   "source": [
    "r = requests.get('http://www.cic.gc.ca/english/express-entry/past-rounds.asp')\n",
    "soup = BeautifulSoup(r.text, 'html.parser')\n",
    "\n",
    "programs_available = ['Federal Skilled Worker Program', \n",
    "                      'Federal Skilled Trades Program', \n",
    "                      'Canadian Experience Class',\n",
    "                      'Provincial Nominee Program']\n"
   ]
  },
  {
   "cell_type": "code",
   "execution_count": 122,
   "metadata": {},
   "outputs": [],
   "source": [
    "all_size = []\n",
    "all_points = []\n",
    "all_dates = []\n",
    "program_count = []\n",
    "single_program = []\n",
    "year_targets = []\n",
    "for draw_info in soup.find_all(\"details\"):\n",
    "    # parse draw size and draw points\n",
    "    td = draw_info.find_all(\"td\")\n",
    "    all_size.append( int( re.sub(\"\\D\", \"\", td[0].get_text() ) ) )\n",
    "    all_points.append( int( re.sub(\"\\D\", \"\", td[1].get_text() ) ) )\n",
    "    \n",
    "    # parse draw date\n",
    "    date_dirty = re.sub(\"[^0-9a-zA-Z \\/]+\", \"\", draw_info.find(\"h3\").get_text()).split(\" \")\n",
    "    del date_dirty[0]\n",
    "    date = parser.parse(\" \".join(date_dirty))\n",
    "    all_dates.append(date.strftime('%d %b %Y'))\n",
    "    # find which programs were used in this round of invitations and count them\n",
    "    current_program_count = 0\n",
    "    try:\n",
    "        footnote_raw = draw_info.find(\"dd\").get_text()\n",
    "        current_program_count = 0\n",
    "        for program in programs_available:\n",
    "            current_program_count = current_program_count + footnote_raw.lower().count(program.lower())\n",
    "    except:\n",
    "        # based on data, we can safely assume that all 4 programs were in use if data is missing\n",
    "        current_program_count = 4\n",
    "        pass\n",
    "    program_count.append(current_program_count)\n",
    "    if program_count == 1:\n",
    "        single_program.append(1)\n",
    "    else:\n",
    "        single_program.append(0)\n",
    "    # add year target feature with current knowledge\n",
    "    if date.year == 2017:\n",
    "        year_targets.append(300000)\n",
    "    else:\n",
    "        year_targets.append(280000)"
   ]
  },
  {
   "cell_type": "code",
   "execution_count": 123,
   "metadata": {},
   "outputs": [],
   "source": [
    "out = zip(all_dates, all_size, all_points, program_count, single_program, year_targets)\n",
    "\n",
    "with open('dataset.csv', \"wb\") as csv_file:\n",
    "        writer = csv.writer(csv_file, delimiter=',')\n",
    "        for line in out:\n",
    "            writer.writerow(line)"
   ]
  },
  {
   "cell_type": "code",
   "execution_count": null,
   "metadata": {
    "collapsed": true
   },
   "outputs": [],
   "source": []
  }
 ],
 "metadata": {
  "kernelspec": {
   "display_name": "Python 2",
   "language": "python",
   "name": "python2"
  },
  "language_info": {
   "codemirror_mode": {
    "name": "ipython",
    "version": 2
   },
   "file_extension": ".py",
   "mimetype": "text/x-python",
   "name": "python",
   "nbconvert_exporter": "python",
   "pygments_lexer": "ipython2",
   "version": "2.7.13"
  }
 },
 "nbformat": 4,
 "nbformat_minor": 2
}
