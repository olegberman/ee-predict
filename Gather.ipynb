{
 "cells": [
  {
   "cell_type": "code",
   "execution_count": 25,
   "metadata": {
    "collapsed": true
   },
   "outputs": [],
   "source": [
    "import requests\n",
    "import re\n",
    "import string\n",
    "from bs4 import BeautifulSoup"
   ]
  },
  {
   "cell_type": "code",
   "execution_count": 8,
   "metadata": {
    "collapsed": true
   },
   "outputs": [],
   "source": [
    "r = requests.get('http://www.cic.gc.ca/english/express-entry/past-rounds.asp')\n",
    "soup = BeautifulSoup(r.text, 'html.parser')"
   ]
  },
  {
   "cell_type": "code",
   "execution_count": 30,
   "metadata": {},
   "outputs": [
    {
     "data": {
      "text/plain": [
       "[3035,\n",
       " 2991,\n",
       " 3264,\n",
       " 3202,\n",
       " 3409,\n",
       " 3877,\n",
       " 400,\n",
       " 143,\n",
       " 3687,\n",
       " 3796,\n",
       " 3665,\n",
       " 3923,\n",
       " 3753,\n",
       " 3749,\n",
       " 3884,\n",
       " 3611,\n",
       " 3644,\n",
       " 3508,\n",
       " 3334,\n",
       " 2902,\n",
       " 2878,\n",
       " 1936,\n",
       " 559,\n",
       " 2427,\n",
       " 2080,\n",
       " 1804,\n",
       " 1518,\n",
       " 1288,\n",
       " 1000,\n",
       " 750,\n",
       " 754,\n",
       " 755,\n",
       " 747,\n",
       " 773,\n",
       " 752,\n",
       " 762,\n",
       " 763,\n",
       " 799,\n",
       " 1018,\n",
       " 954,\n",
       " 1014,\n",
       " 1013,\n",
       " 1484,\n",
       " 1505,\n",
       " 1468,\n",
       " 1518,\n",
       " 1463,\n",
       " 1503,\n",
       " 1451,\n",
       " 1559,\n",
       " 1506,\n",
       " 1502,\n",
       " 1530,\n",
       " 1545,\n",
       " 1517,\n",
       " 1523,\n",
       " 1402,\n",
       " 1581,\n",
       " 1516,\n",
       " 1575,\n",
       " 1501,\n",
       " 1361,\n",
       " 715,\n",
       " 925,\n",
       " 1637,\n",
       " 1620,\n",
       " 1187,\n",
       " 849,\n",
       " 779,\n",
       " 779]"
      ]
     },
     "execution_count": 30,
     "metadata": {},
     "output_type": "execute_result"
    }
   ],
   "source": [
    "all_size = []\n",
    "all_points = []\n",
    "for draw_info in soup.find_all(\"details\"):\n",
    "    td = draw_info.find_all(\"td\")\n",
    "    all_size.append( int( re.sub(\"\\D\", \"\", td[0].get_text() ) ) )\n",
    "    all_points.append( int( re.sub(\"\\D\", \"\", td[1].get_text() ) ) )\n",
    "all_size"
   ]
  },
  {
   "cell_type": "code",
   "execution_count": null,
   "metadata": {
    "collapsed": true
   },
   "outputs": [],
   "source": []
  },
  {
   "cell_type": "code",
   "execution_count": null,
   "metadata": {
    "collapsed": true
   },
   "outputs": [],
   "source": []
  }
 ],
 "metadata": {
  "kernelspec": {
   "display_name": "Python 2",
   "language": "python",
   "name": "python2"
  },
  "language_info": {
   "codemirror_mode": {
    "name": "ipython",
    "version": 2
   },
   "file_extension": ".py",
   "mimetype": "text/x-python",
   "name": "python",
   "nbconvert_exporter": "python",
   "pygments_lexer": "ipython2",
   "version": "2.7.13"
  }
 },
 "nbformat": 4,
 "nbformat_minor": 2
}
